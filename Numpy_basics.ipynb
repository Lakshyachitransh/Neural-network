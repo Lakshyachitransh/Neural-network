{
 "cells": [
  {
   "cell_type": "code",
   "execution_count": 2,
   "metadata": {},
   "outputs": [
    {
     "name": "stdout",
     "output_type": "stream",
     "text": [
      "[[1 2 3]\n",
      " [4 5 6]\n",
      " [7 8 9]]\n",
      "<class 'numpy.ndarray'>\n"
     ]
    }
   ],
   "source": [
    "import numpy as np\n",
    "#creating array using list\n",
    "arr1=[[1,2,3],[4,5,6],[7,8,9]]\n",
    "#converting array into numpy array\n",
    "arr2=np.array(arr1)\n",
    "print(arr2)\n",
    "print(type(arr2))"
   ]
  },
  {
   "cell_type": "code",
   "execution_count": 3,
   "metadata": {},
   "outputs": [
    {
     "name": "stdout",
     "output_type": "stream",
     "text": [
      "[[ 2  4  6]\n",
      " [ 8 10 12]\n",
      " [14 16 18]]\n",
      "[[ 2  4  6]\n",
      " [ 8 10 12]\n",
      " [14 16 18]]\n",
      "[[ 1  4  9]\n",
      " [16 25 36]\n",
      " [49 64 81]]\n",
      "[[0.25 0.5  0.75]\n",
      " [1.   1.25 1.5 ]\n",
      " [1.75 2.   2.25]]\n"
     ]
    }
   ],
   "source": [
    "#numpy array allow us to apply vectorised opperations \n",
    "print(arr2*2)\n",
    "print(arr2+arr2)\n",
    "print(arr2*arr2)\n",
    "print(arr2/4)"
   ]
  },
  {
   "cell_type": "code",
   "execution_count": 4,
   "metadata": {},
   "outputs": [
    {
     "name": "stdout",
     "output_type": "stream",
     "text": [
      "[0 0 0 0 0 0 0 0 0 0 0 0 0 0 0 0 0 0 0 0 0 0 0 0 0 0 0 0 0 0 0 0 0 0 0 0 0\n",
      " 0 0 0 0 0 0 0 0 0 0 0 0 0 0 0 0 0 0 0 0 0 0 0 0 0 0 0 0 0 0 0 0 0 0 0 0 0\n",
      " 0 0 0 0 0 0 0 0 0 0 0 0 0 0 0 0 0 0 0 0 0 0 0 0 0 0]\n",
      "[[1 1 1]\n",
      " [1 1 1]\n",
      " [1 1 1]]\n",
      "[ 0  4  8 12 16 20 24 28 32 36 40 44 48]\n",
      "[0.         0.01010101 0.02020202 0.03030303 0.04040404 0.05050505\n",
      " 0.06060606 0.07070707 0.08080808 0.09090909 0.1010101  0.11111111\n",
      " 0.12121212 0.13131313 0.14141414 0.15151515 0.16161616 0.17171717\n",
      " 0.18181818 0.19191919 0.2020202  0.21212121 0.22222222 0.23232323\n",
      " 0.24242424 0.25252525 0.26262626 0.27272727 0.28282828 0.29292929\n",
      " 0.3030303  0.31313131 0.32323232 0.33333333 0.34343434 0.35353535\n",
      " 0.36363636 0.37373737 0.38383838 0.39393939 0.4040404  0.41414141\n",
      " 0.42424242 0.43434343 0.44444444 0.45454545 0.46464646 0.47474747\n",
      " 0.48484848 0.49494949 0.50505051 0.51515152 0.52525253 0.53535354\n",
      " 0.54545455 0.55555556 0.56565657 0.57575758 0.58585859 0.5959596\n",
      " 0.60606061 0.61616162 0.62626263 0.63636364 0.64646465 0.65656566\n",
      " 0.66666667 0.67676768 0.68686869 0.6969697  0.70707071 0.71717172\n",
      " 0.72727273 0.73737374 0.74747475 0.75757576 0.76767677 0.77777778\n",
      " 0.78787879 0.7979798  0.80808081 0.81818182 0.82828283 0.83838384\n",
      " 0.84848485 0.85858586 0.86868687 0.87878788 0.88888889 0.8989899\n",
      " 0.90909091 0.91919192 0.92929293 0.93939394 0.94949495 0.95959596\n",
      " 0.96969697 0.97979798 0.98989899 1.        ]\n",
      "[[7 6 3]\n",
      " [5 6 6]\n",
      " [7 9 4]]\n",
      "x dimension= 2\n",
      "x Shape= (3, 3)\n",
      "x size= 9\n",
      "x dtype= int32\n"
     ]
    }
   ],
   "source": [
    "#arrays from scratch using numpy\n",
    "print(np.zeros(100,dtype=int))#creating numpy array filled with zeros \n",
    "print(np.ones((3,3),dtype=int))#creating 2d array filled with 1\n",
    "print(np.arange(0,50,4))#creating an array filled with linear sequence starting from 0 and end 50 with stepsize 4\n",
    "print(np.linspace(0,1,100))#creating an array of size 100 filled with 0 and 1\n",
    "print(np.random.randint(0,10,(3,3)))\n",
    "x=np.random.randint(0,10,(3,3))\n",
    "print(\"x dimension=\",x.ndim)\n",
    "print(\"x Shape=\",x.shape)\n",
    "print(\"x size=\",x.size)\n",
    "print(\"x dtype=\",x.dtype)"
   ]
  },
  {
   "cell_type": "code",
   "execution_count": 5,
   "metadata": {},
   "outputs": [
    {
     "name": "stdout",
     "output_type": "stream",
     "text": [
      "3\n",
      "6\n"
     ]
    }
   ],
   "source": [
    "#array indexing \n",
    "#how to access single element in the 1d 2d or nd arrays and how can we change the values of the tuples\n",
    "x1=np.array([1,2,3,4,6])\n",
    "#access elements from the start\n",
    "print(x1[2])\n",
    "#access elements from the last\n",
    "print(x1[-1])"
   ]
  },
  {
   "cell_type": "code",
   "execution_count": 6,
   "metadata": {},
   "outputs": [
    {
     "name": "stdout",
     "output_type": "stream",
     "text": [
      "3\n",
      "6\n",
      "10\n"
     ]
    }
   ],
   "source": [
    "#for 2d array\n",
    "x2=np.array([[1,2,3],[4,5,6],[7,8,9]])\n",
    "#accessing elements using row and column values\n",
    "print(x2[0,2])\n",
    "print(x2[1,-1])\n",
    "x2[1,-1]=10\n",
    "print(x2[1,-1])"
   ]
  },
  {
   "cell_type": "code",
   "execution_count": 7,
   "metadata": {},
   "outputs": [
    {
     "name": "stdout",
     "output_type": "stream",
     "text": [
      "[0 1 2 3 4 5 6 7 8 9]\n",
      "[0 1 2 3 4]\n",
      "[0 2 4 6 8]\n",
      "[0 3 6 9]\n"
     ]
    }
   ],
   "source": [
    "#array slicing\n",
    "x1=np.arange(10)\n",
    "x2=x1[:5]\n",
    "x3=x1[::2]\n",
    "x4=x1[0::3]\n",
    "print(x1)\n",
    "print(x2)\n",
    "print(x3)\n",
    "print(x4)"
   ]
  },
  {
   "cell_type": "code",
   "execution_count": 8,
   "metadata": {},
   "outputs": [
    {
     "name": "stdout",
     "output_type": "stream",
     "text": [
      "[[9 8 7]\n",
      " [6 5 4]\n",
      " [3 2 1]]\n",
      "[[7 8 9]\n",
      " [4 5 6]\n",
      " [1 2 3]]\n"
     ]
    }
   ],
   "source": [
    "#applying array slicing in 2 dimensional\n",
    "a2=np.array([[1,2,3],[4,5,6],[7,8,9]])\n",
    "print(a2[::-1,::-1])\n",
    "print(a2[::-1,::])"
   ]
  },
  {
   "cell_type": "code",
   "execution_count": 9,
   "metadata": {},
   "outputs": [
    {
     "name": "stdout",
     "output_type": "stream",
     "text": [
      "[ 1  2  3  4  5  6  7  8  9 11 12 13 14 15 16 17 18 19]\n"
     ]
    }
   ],
   "source": [
    "#splitting and concatenation of the arrays\n",
    "#concatenation \n",
    "x=np.arange(1,10)\n",
    "y=np.arange(11,20)\n",
    "concatenate=np.concatenate([x,y])\n",
    "print(concatenate)"
   ]
  },
  {
   "cell_type": "code",
   "execution_count": 15,
   "metadata": {},
   "outputs": [
    {
     "name": "stdout",
     "output_type": "stream",
     "text": [
      "[[ 1  2  3]\n",
      " [34 36 38]\n",
      " [12 14 16]\n",
      " [24 26 28]]\n"
     ]
    }
   ],
   "source": [
    "z=np.array([[12,14,16],[24,26,28]])\n",
    "s=np.array([1,2,3])\n",
    "t=np.array([34,36,38])\n",
    "print(np.vstack([s,t,z]))"
   ]
  },
  {
   "cell_type": "code",
   "execution_count": 16,
   "metadata": {},
   "outputs": [
    {
     "name": "stdout",
     "output_type": "stream",
     "text": [
      "[[  1  23  23  12  14  16]\n",
      " [ 21 213  24  42  45  47]]\n"
     ]
    }
   ],
   "source": [
    "#concatenation of two different dimension of array using hstack and vstack\n",
    "a=np.array([[1,23,23],[21,213,24]])\n",
    "b=np.array([[12,14,16],[42,45,47]])\n",
    "print(np.hstack([a,b]))"
   ]
  },
  {
   "cell_type": "code",
   "execution_count": 21,
   "metadata": {},
   "outputs": [
    {
     "name": "stdout",
     "output_type": "stream",
     "text": [
      "[[0 1 2 3]\n",
      " [4 5 6 7]]\n",
      "[[ 8  9 10 11]\n",
      " [12 13 14 15]]\n"
     ]
    }
   ],
   "source": [
    "#splitting of array using numpy hsplit and vsplit\n",
    "grid=np.arange(16).reshape((4,4))\n",
    "upper,lower=np.vsplit(grid,[2])\n",
    "print(upper)\n",
    "print(lower)\n"
   ]
  },
  {
   "cell_type": "code",
   "execution_count": 22,
   "metadata": {},
   "outputs": [
    {
     "name": "stdout",
     "output_type": "stream",
     "text": [
      "[[ 0  1]\n",
      " [ 4  5]\n",
      " [ 8  9]\n",
      " [12 13]]\n",
      "[[ 2  3]\n",
      " [ 6  7]\n",
      " [10 11]\n",
      " [14 15]]\n"
     ]
    }
   ],
   "source": [
    "left,right=np.hsplit(grid,[2])\n",
    "print(left)\n",
    "print(right)"
   ]
  },
  {
   "cell_type": "code",
   "execution_count": null,
   "metadata": {},
   "outputs": [],
   "source": []
  }
 ],
 "metadata": {
  "kernelspec": {
   "display_name": "Python 3",
   "language": "python",
   "name": "python3"
  },
  "language_info": {
   "codemirror_mode": {
    "name": "ipython",
    "version": 3
   },
   "file_extension": ".py",
   "mimetype": "text/x-python",
   "name": "python",
   "nbconvert_exporter": "python",
   "pygments_lexer": "ipython3",
   "version": "3.7.6"
  }
 },
 "nbformat": 4,
 "nbformat_minor": 4
}
