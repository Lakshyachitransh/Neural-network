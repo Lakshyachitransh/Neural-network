{
 "cells": [
  {
   "cell_type": "markdown",
   "metadata": {},
   "source": [
    "# NumPy Arithmetic and Statistics"
   ]
  },
  {
   "cell_type": "code",
   "execution_count": 5,
   "metadata": {},
   "outputs": [
    {
     "name": "stdout",
     "output_type": "stream",
     "text": [
      "[0 1 2 3 4 5 6 7 8 9]\n",
      "45\n",
      "Grid y= [[ 0  1  2  3]\n",
      " [ 4  5  6  7]\n",
      " [ 8  9 10 11]\n",
      " [12 13 14 15]]\n",
      "Sum of y= [24 28 32 36]\n"
     ]
    }
   ],
   "source": [
    "import numpy as np\n",
    "#Universal function and method\n",
    "#reduce and accumulate\n",
    "x=np.arange(10)\n",
    "sum_all=np.add.reduce(x)\n",
    "print(x)\n",
    "print(sum_all)\n",
    "#applying for n dimensional array\n",
    "y=np.arange(16).reshape((4,4))\n",
    "sum_y=np.add.reduce(y)\n",
    "print(\"Grid y=\",y)\n",
    "print(\"Sum of y=\",sum_y)"
   ]
  },
  {
   "cell_type": "code",
   "execution_count": 7,
   "metadata": {},
   "outputs": [
    {
     "name": "stdout",
     "output_type": "stream",
     "text": [
      "[ 0  1  2  3  4  5  6  7  8  9 10 11]\n",
      "[ 0  1  3  6 10 15 21 28 36 45 55 66]\n"
     ]
    }
   ],
   "source": [
    "#applying accumulate functions \n",
    "s=np.arange(12)\n",
    "sum_acc=np.add.accumulate(s)\n",
    "print(s)\n",
    "print(sum_acc)"
   ]
  },
  {
   "cell_type": "code",
   "execution_count": 9,
   "metadata": {},
   "outputs": [
    {
     "name": "stdout",
     "output_type": "stream",
     "text": [
      "Sum_of_s= 45\n",
      "Mean_of_s 4.5\n",
      "Max_of_s 9\n",
      "Min_of_s 0\n",
      "[[ 0  1  2  3]\n",
      " [ 4  5  6  7]\n",
      " [ 8  9 10 11]\n",
      " [12 13 14 15]]\n",
      "Sum_x= 120\n",
      "Mean_x= 7.5\n",
      "Min_X= 0\n",
      "Max_x 15\n"
     ]
    }
   ],
   "source": [
    "#Aggregation\n",
    "s=np.arange(14).reshape((2,7))\n",
    "print(\"Sum_of_s=\",np.sum(x))\n",
    "print(\"Mean_of_s\",np.mean(x))\n",
    "print(\"Max_of_s\",np.max(x))\n",
    "print(\"Min_of_s\",np.min(x))\n",
    "#applying it to the 2d array\n",
    "x=np.arange(16).reshape((4,4))\n",
    "print(x)\n",
    "print(\"Sum_x=\",x.sum())\n",
    "print(\"Mean_x=\",x.mean())\n",
    "print(\"Min_X=\",x.min())\n",
    "print(\"Max_x\",x.max())"
   ]
  },
  {
   "cell_type": "code",
   "execution_count": 12,
   "metadata": {},
   "outputs": [
    {
     "name": "stdout",
     "output_type": "stream",
     "text": [
      "[False False False False False  True  True  True  True  True  True  True\n",
      "  True  True  True  True]\n",
      "[ True  True  True  True  True  True  True  True  True  True  True False\n",
      " False False False False]\n",
      "[ True False  True False False False False False False False False False\n",
      " False False False False]\n",
      "8\n",
      "False\n",
      "True\n",
      "[[11  5 13]\n",
      " [ 7  5 13]\n",
      " [ 9  7  4]]\n",
      "[ True  True  True  True  True  True False False False False False False\n",
      " False False False False]\n",
      "[0 1 2 3 4 5]\n"
     ]
    }
   ],
   "source": [
    "#Comparison and boolean mask\n",
    "x=np.arange(16)\n",
    "#comparison operator always return boolean values\n",
    "print(x>4)\n",
    "print(x<=10)\n",
    "print(x*2==x**2)\n",
    "#numpy also gives us many other operations like count_nonzero,all,any etc\n",
    "print(np.count_nonzero(x>7))\n",
    "print(np.all(x<5))\n",
    "print(np.any(x>=6))\n",
    "#using boolean mask\n",
    "grid=np.random.randint(1,14,(3,3))\n",
    "print(grid)\n",
    "#applying boolean operation\n",
    "print(x<6)\n",
    "#applying boolean mask\n",
    "print(x[x<6])"
   ]
  },
  {
   "cell_type": "code",
   "execution_count": null,
   "metadata": {},
   "outputs": [],
   "source": []
  }
 ],
 "metadata": {
  "kernelspec": {
   "display_name": "Python 3",
   "language": "python",
   "name": "python3"
  },
  "language_info": {
   "codemirror_mode": {
    "name": "ipython",
    "version": 3
   },
   "file_extension": ".py",
   "mimetype": "text/x-python",
   "name": "python",
   "nbconvert_exporter": "python",
   "pygments_lexer": "ipython3",
   "version": "3.7.6"
  }
 },
 "nbformat": 4,
 "nbformat_minor": 4
}
